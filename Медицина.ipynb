{
 "cells": [
  {
   "cell_type": "code",
   "execution_count": 70,
   "id": "81e3f5be",
   "metadata": {},
   "outputs": [],
   "source": [
    "import pandas as pd\n",
    "import numpy as np\n",
    "import matplotlib.pyplot as plt\n",
    "import seaborn as sns"
   ]
  },
  {
   "cell_type": "markdown",
   "id": "dd8385e8",
   "metadata": {},
   "source": [
    "* [Исследование взаимосвязей](#first-bullet)\n",
    "* [COVID-19](#second-bullet)\n",
    "* [Рейтинг губернаторов](#third-bullet)\n",
    "\n",
    "**Задачи, которые следует выполнить в ходе исследования:**\n",
    "\n",
    "1. Выявить корреляции между статистическими показателями\n",
    "2. Проверить предположение, что смертность выше в регионах с меньшим количеством коек и медицинского персонала\n",
    "3. Проверить предположение, что смертность от COVID - 19 выше в регионах с более высокой смертностью от других причин\n",
    "4. Проверить предположение, что рейтинг губернаторов коррелирует с показателями смертности и медицинского обеспечения в регионах"
   ]
  },
  {
   "cell_type": "markdown",
   "id": "eafae234",
   "metadata": {},
   "source": [
    "Выгружаем данные из собранного датасета со статистическими данными по медицине.\n",
    "Источники: Росстат, Yandex.DataLens\n",
    "\n",
    "# Описание показателей: \n",
    "**region** - Регион; \n",
    "\n",
    "**popul** - Численность населения; \n",
    "\n",
    "**exp** - Ожидаемая продолжительность жизни при рождении, лет;\n",
    "\n",
    "**avg** - Средний возраст;\n",
    "\n",
    "**deaths_work** - Смертность населения трудоспособного возраста на 100 тыс. населения, чел;\n",
    "\n",
    "**deaths_blood** - Смертность от болезней системы кровообращения на 100 тыс. населения, чел;\n",
    "\n",
    "**deaths_resp** - Смертность от болезней органов дыхания на 100 тыс.;\n",
    "\n",
    "**deaths_inf** - Смертность от инфекционных заболеваний на 100 тыс.;\n",
    "\n",
    "**bed** - Количество больничных коек на 10 тыс. населения, шт;\n",
    "\n",
    "**capacity** - Мощность амбулаторных поликлинических организаций на 10 тыс. населения, визитов в смену;\n",
    "\n",
    "**doc** - Кол-во врачей на 10 тыс. населения, чел;\n",
    "\n",
    "**nurse** - Кол-во среднего медперсонала на 10 тыс. населения, чел;\n",
    "\n",
    "**cases_cov** - Заболевших COVID-19, на 100 тыс;\n",
    "\n",
    "**deaths_cov** - Умерших от COVID-19, на 100 тыс;\n",
    "\n",
    "**rate_gov** - Рейтинг губернаторов"
   ]
  },
  {
   "cell_type": "code",
   "execution_count": 71,
   "id": "8f40e233",
   "metadata": {},
   "outputs": [
    {
     "data": {
      "text/html": [
       "<div>\n",
       "<style scoped>\n",
       "    .dataframe tbody tr th:only-of-type {\n",
       "        vertical-align: middle;\n",
       "    }\n",
       "\n",
       "    .dataframe tbody tr th {\n",
       "        vertical-align: top;\n",
       "    }\n",
       "\n",
       "    .dataframe thead th {\n",
       "        text-align: right;\n",
       "    }\n",
       "</style>\n",
       "<table border=\"1\" class=\"dataframe\">\n",
       "  <thead>\n",
       "    <tr style=\"text-align: right;\">\n",
       "      <th></th>\n",
       "      <th>Reg</th>\n",
       "      <th>popul</th>\n",
       "      <th>exp</th>\n",
       "      <th>avg</th>\n",
       "      <th>deaths_work</th>\n",
       "      <th>deaths_blood</th>\n",
       "      <th>deaths_resp</th>\n",
       "      <th>deaths_inf</th>\n",
       "      <th>bed</th>\n",
       "      <th>capacity</th>\n",
       "      <th>doc</th>\n",
       "      <th>nurse</th>\n",
       "      <th>cases_cov</th>\n",
       "      <th>deaths_cov</th>\n",
       "      <th>rate_gov</th>\n",
       "    </tr>\n",
       "  </thead>\n",
       "  <tbody>\n",
       "    <tr>\n",
       "      <th>0</th>\n",
       "      <td>Belgorod</td>\n",
       "      <td>1 547 418</td>\n",
       "      <td>74,20</td>\n",
       "      <td>41,10</td>\n",
       "      <td>399</td>\n",
       "      <td>721</td>\n",
       "      <td>56</td>\n",
       "      <td>5</td>\n",
       "      <td>70,60</td>\n",
       "      <td>263,20</td>\n",
       "      <td>40,70</td>\n",
       "      <td>105,90</td>\n",
       "      <td>4276,40</td>\n",
       "      <td>87,90</td>\n",
       "      <td>3,40</td>\n",
       "    </tr>\n",
       "    <tr>\n",
       "      <th>1</th>\n",
       "      <td>Bryansk</td>\n",
       "      <td>1 200 187</td>\n",
       "      <td>72,00</td>\n",
       "      <td>41,30</td>\n",
       "      <td>540</td>\n",
       "      <td>729</td>\n",
       "      <td>66</td>\n",
       "      <td>8</td>\n",
       "      <td>71,10</td>\n",
       "      <td>293,90</td>\n",
       "      <td>41,80</td>\n",
       "      <td>113,50</td>\n",
       "      <td>6765,00</td>\n",
       "      <td>166,10</td>\n",
       "      <td>4,40</td>\n",
       "    </tr>\n",
       "    <tr>\n",
       "      <th>2</th>\n",
       "      <td>Vladimir</td>\n",
       "      <td>1 365 805</td>\n",
       "      <td>71,90</td>\n",
       "      <td>41,90</td>\n",
       "      <td>562</td>\n",
       "      <td>824</td>\n",
       "      <td>45</td>\n",
       "      <td>10</td>\n",
       "      <td>83,00</td>\n",
       "      <td>361,70</td>\n",
       "      <td>35,10</td>\n",
       "      <td>95,80</td>\n",
       "      <td>4815,10</td>\n",
       "      <td>167,80</td>\n",
       "      <td>2,90</td>\n",
       "    </tr>\n",
       "    <tr>\n",
       "      <th>3</th>\n",
       "      <td>Voronezh</td>\n",
       "      <td>2 327 821</td>\n",
       "      <td>73,70</td>\n",
       "      <td>41,90</td>\n",
       "      <td>435</td>\n",
       "      <td>563</td>\n",
       "      <td>32</td>\n",
       "      <td>6</td>\n",
       "      <td>80,00</td>\n",
       "      <td>262,80</td>\n",
       "      <td>51,50</td>\n",
       "      <td>108,80</td>\n",
       "      <td>6983,60</td>\n",
       "      <td>223,30</td>\n",
       "      <td>5,00</td>\n",
       "    </tr>\n",
       "    <tr>\n",
       "      <th>4</th>\n",
       "      <td>Ivanovo</td>\n",
       "      <td>1 004 180</td>\n",
       "      <td>72,30</td>\n",
       "      <td>41,80</td>\n",
       "      <td>560</td>\n",
       "      <td>581</td>\n",
       "      <td>50</td>\n",
       "      <td>14</td>\n",
       "      <td>77,80</td>\n",
       "      <td>255,50</td>\n",
       "      <td>42,90</td>\n",
       "      <td>100,70</td>\n",
       "      <td>5699,80</td>\n",
       "      <td>191,40</td>\n",
       "      <td>5,20</td>\n",
       "    </tr>\n",
       "    <tr>\n",
       "      <th>...</th>\n",
       "      <td>...</td>\n",
       "      <td>...</td>\n",
       "      <td>...</td>\n",
       "      <td>...</td>\n",
       "      <td>...</td>\n",
       "      <td>...</td>\n",
       "      <td>...</td>\n",
       "      <td>...</td>\n",
       "      <td>...</td>\n",
       "      <td>...</td>\n",
       "      <td>...</td>\n",
       "      <td>...</td>\n",
       "      <td>...</td>\n",
       "      <td>...</td>\n",
       "      <td>...</td>\n",
       "    </tr>\n",
       "    <tr>\n",
       "      <th>79</th>\n",
       "      <td>Amur</td>\n",
       "      <td>793 194</td>\n",
       "      <td>69,50</td>\n",
       "      <td>37,90</td>\n",
       "      <td>599</td>\n",
       "      <td>399</td>\n",
       "      <td>48</td>\n",
       "      <td>22</td>\n",
       "      <td>88,00</td>\n",
       "      <td>283,20</td>\n",
       "      <td>54,10</td>\n",
       "      <td>109,70</td>\n",
       "      <td>5251,10</td>\n",
       "      <td>62,20</td>\n",
       "      <td>3,00</td>\n",
       "    </tr>\n",
       "    <tr>\n",
       "      <th>80</th>\n",
       "      <td>Magadan</td>\n",
       "      <td>141 234</td>\n",
       "      <td>69,30</td>\n",
       "      <td>38,30</td>\n",
       "      <td>627</td>\n",
       "      <td>479</td>\n",
       "      <td>87</td>\n",
       "      <td>7</td>\n",
       "      <td>106,50</td>\n",
       "      <td>436,60</td>\n",
       "      <td>64,20</td>\n",
       "      <td>163,50</td>\n",
       "      <td>8396,80</td>\n",
       "      <td>202,00</td>\n",
       "      <td>4,60</td>\n",
       "    </tr>\n",
       "    <tr>\n",
       "      <th>81</th>\n",
       "      <td>Sakhalin</td>\n",
       "      <td>489 638</td>\n",
       "      <td>70,30</td>\n",
       "      <td>38,60</td>\n",
       "      <td>568</td>\n",
       "      <td>232</td>\n",
       "      <td>49</td>\n",
       "      <td>18</td>\n",
       "      <td>111,20</td>\n",
       "      <td>257,20</td>\n",
       "      <td>61,20</td>\n",
       "      <td>132,20</td>\n",
       "      <td>7336,10</td>\n",
       "      <td>80,00</td>\n",
       "      <td>5,60</td>\n",
       "    </tr>\n",
       "    <tr>\n",
       "      <th>82</th>\n",
       "      <td>Evrey</td>\n",
       "      <td>159 913</td>\n",
       "      <td>69,50</td>\n",
       "      <td>37,60</td>\n",
       "      <td>557</td>\n",
       "      <td>761</td>\n",
       "      <td>74</td>\n",
       "      <td>25</td>\n",
       "      <td>118,70</td>\n",
       "      <td>289,30</td>\n",
       "      <td>35,70</td>\n",
       "      <td>118,10</td>\n",
       "      <td>6019,90</td>\n",
       "      <td>192,00</td>\n",
       "      <td>4,20</td>\n",
       "    </tr>\n",
       "    <tr>\n",
       "      <th>83</th>\n",
       "      <td>Chukotka</td>\n",
       "      <td>49 663</td>\n",
       "      <td>60,50</td>\n",
       "      <td>34,90</td>\n",
       "      <td>901</td>\n",
       "      <td>410</td>\n",
       "      <td>36</td>\n",
       "      <td>46</td>\n",
       "      <td>103,50</td>\n",
       "      <td>481,60</td>\n",
       "      <td>79,30</td>\n",
       "      <td>148,90</td>\n",
       "      <td>5212,00</td>\n",
       "      <td>44,60</td>\n",
       "      <td>3,70</td>\n",
       "    </tr>\n",
       "  </tbody>\n",
       "</table>\n",
       "<p>84 rows × 15 columns</p>\n",
       "</div>"
      ],
      "text/plain": [
       "         Reg      popul    exp    avg  deaths_work  deaths_blood  deaths_resp  \\\n",
       "0   Belgorod  1 547 418  74,20  41,10          399           721           56   \n",
       "1    Bryansk  1 200 187  72,00  41,30          540           729           66   \n",
       "2   Vladimir  1 365 805  71,90  41,90          562           824           45   \n",
       "3   Voronezh  2 327 821  73,70  41,90          435           563           32   \n",
       "4    Ivanovo  1 004 180  72,30  41,80          560           581           50   \n",
       "..       ...        ...    ...    ...          ...           ...          ...   \n",
       "79      Amur    793 194  69,50  37,90          599           399           48   \n",
       "80   Magadan    141 234  69,30  38,30          627           479           87   \n",
       "81  Sakhalin    489 638  70,30  38,60          568           232           49   \n",
       "82     Evrey    159 913  69,50  37,60          557           761           74   \n",
       "83  Chukotka     49 663  60,50  34,90          901           410           36   \n",
       "\n",
       "    deaths_inf     bed capacity    doc   nurse cases_cov deaths_cov rate_gov  \n",
       "0            5   70,60   263,20  40,70  105,90   4276,40      87,90     3,40  \n",
       "1            8   71,10   293,90  41,80  113,50   6765,00     166,10     4,40  \n",
       "2           10   83,00   361,70  35,10   95,80   4815,10     167,80     2,90  \n",
       "3            6   80,00   262,80  51,50  108,80   6983,60     223,30     5,00  \n",
       "4           14   77,80   255,50  42,90  100,70   5699,80     191,40     5,20  \n",
       "..         ...     ...      ...    ...     ...       ...        ...      ...  \n",
       "79          22   88,00   283,20  54,10  109,70   5251,10      62,20     3,00  \n",
       "80           7  106,50   436,60  64,20  163,50   8396,80     202,00     4,60  \n",
       "81          18  111,20   257,20  61,20  132,20   7336,10      80,00     5,60  \n",
       "82          25  118,70   289,30  35,70  118,10   6019,90     192,00     4,20  \n",
       "83          46  103,50   481,60  79,30  148,90   5212,00      44,60     3,70  \n",
       "\n",
       "[84 rows x 15 columns]"
      ]
     },
     "execution_count": 71,
     "metadata": {},
     "output_type": "execute_result"
    }
   ],
   "source": [
    "med = pd.read_csv('Medic.csv', ';')\n",
    "med"
   ]
  },
  {
   "cell_type": "markdown",
   "id": "aaba0049",
   "metadata": {},
   "source": [
    "**Запрашиваем характеристики датасета**"
   ]
  },
  {
   "cell_type": "code",
   "execution_count": 72,
   "id": "7562f56b",
   "metadata": {},
   "outputs": [
    {
     "name": "stdout",
     "output_type": "stream",
     "text": [
      "<class 'pandas.core.frame.DataFrame'>\n",
      "RangeIndex: 84 entries, 0 to 83\n",
      "Data columns (total 15 columns):\n",
      " #   Column        Non-Null Count  Dtype \n",
      "---  ------        --------------  ----- \n",
      " 0   Reg           84 non-null     object\n",
      " 1   popul         84 non-null     object\n",
      " 2   exp           84 non-null     object\n",
      " 3   avg           84 non-null     object\n",
      " 4   deaths_work   84 non-null     int64 \n",
      " 5   deaths_blood  84 non-null     int64 \n",
      " 6   deaths_resp   84 non-null     int64 \n",
      " 7   deaths_inf    84 non-null     int64 \n",
      " 8   bed           84 non-null     object\n",
      " 9   capacity      84 non-null     object\n",
      " 10  doc           84 non-null     object\n",
      " 11  nurse         84 non-null     object\n",
      " 12  cases_cov     84 non-null     object\n",
      " 13  deaths_cov    84 non-null     object\n",
      " 14  rate_gov      84 non-null     object\n",
      "dtypes: int64(4), object(11)\n",
      "memory usage: 10.0+ KB\n"
     ]
    }
   ],
   "source": [
    "med.info()"
   ]
  },
  {
   "cell_type": "markdown",
   "id": "4a41c637",
   "metadata": {},
   "source": [
    "**Необходимо изменить тип данных object на float64 и int64**"
   ]
  },
  {
   "cell_type": "code",
   "execution_count": 73,
   "id": "c9d34a22",
   "metadata": {},
   "outputs": [],
   "source": [
    "def convert_currency(val):\n",
    "    \"\"\"\n",
    "    Преобразует числовое значение строки в число с плавающей точкой:\n",
    "    \n",
    "    \"\"\"\n",
    "    new_val = val.replace(',', '.')\n",
    "    return float(new_val)\n",
    "def convert_cur(val):\n",
    "    \"\"\"\n",
    "    Преобразует числовое значение строки в число с плавающей точкой:\n",
    "     \n",
    "    \"\"\"\n",
    "    new_val = val.replace(' ', '')\n",
    "    return int(new_val)"
   ]
  },
  {
   "cell_type": "code",
   "execution_count": 74,
   "id": "1988813e",
   "metadata": {},
   "outputs": [
    {
     "name": "stdout",
     "output_type": "stream",
     "text": [
      "<class 'pandas.core.frame.DataFrame'>\n",
      "RangeIndex: 84 entries, 0 to 83\n",
      "Data columns (total 15 columns):\n",
      " #   Column        Non-Null Count  Dtype  \n",
      "---  ------        --------------  -----  \n",
      " 0   Reg           84 non-null     object \n",
      " 1   popul         84 non-null     int64  \n",
      " 2   exp           84 non-null     float64\n",
      " 3   avg           84 non-null     float64\n",
      " 4   deaths_work   84 non-null     int64  \n",
      " 5   deaths_blood  84 non-null     int64  \n",
      " 6   deaths_resp   84 non-null     int64  \n",
      " 7   deaths_inf    84 non-null     int64  \n",
      " 8   bed           84 non-null     float64\n",
      " 9   capacity      84 non-null     float64\n",
      " 10  doc           84 non-null     float64\n",
      " 11  nurse         84 non-null     float64\n",
      " 12  cases_cov     84 non-null     float64\n",
      " 13  deaths_cov    84 non-null     float64\n",
      " 14  rate_gov      84 non-null     float64\n",
      "dtypes: float64(9), int64(5), object(1)\n",
      "memory usage: 10.0+ KB\n"
     ]
    }
   ],
   "source": [
    "med = pd.read_csv('Medic.csv', ';',\n",
    "                 converters = {'popul' : convert_cur,\n",
    "                               'exp': convert_currency,\n",
    "                               'avg': convert_currency,\n",
    "                               'bed': convert_currency,\n",
    "                               'capacity': convert_currency,\n",
    "                               'doc': convert_currency,\n",
    "                               'nurse': convert_currency,\n",
    "                               'cases_cov': convert_currency,\n",
    "                               'deaths_cov': convert_currency,\n",
    "                               'rate_gov': convert_currency,})\n",
    "med\n",
    "med.info()"
   ]
  },
  {
   "cell_type": "markdown",
   "id": "e436a3a8",
   "metadata": {},
   "source": [
    "## Исследование взаимосвязей <a class=\"anchor\" id=\"first-bullet\"></a>\n",
    "**Теперь мы готовы к исследованию взаимосвязей. Выбираем интересующие столбцы**"
   ]
  },
  {
   "cell_type": "code",
   "execution_count": 75,
   "id": "2abf6b4c",
   "metadata": {},
   "outputs": [
    {
     "data": {
      "text/html": [
       "<div>\n",
       "<style scoped>\n",
       "    .dataframe tbody tr th:only-of-type {\n",
       "        vertical-align: middle;\n",
       "    }\n",
       "\n",
       "    .dataframe tbody tr th {\n",
       "        vertical-align: top;\n",
       "    }\n",
       "\n",
       "    .dataframe thead th {\n",
       "        text-align: right;\n",
       "    }\n",
       "</style>\n",
       "<table border=\"1\" class=\"dataframe\">\n",
       "  <thead>\n",
       "    <tr style=\"text-align: right;\">\n",
       "      <th></th>\n",
       "      <th>exp</th>\n",
       "      <th>avg</th>\n",
       "      <th>capacity</th>\n",
       "      <th>doc</th>\n",
       "      <th>deaths_cov</th>\n",
       "      <th>rate_gov</th>\n",
       "      <th>deaths_work</th>\n",
       "      <th>deaths_blood</th>\n",
       "      <th>deaths_resp</th>\n",
       "      <th>deaths_inf</th>\n",
       "      <th>bed</th>\n",
       "      <th>nurse</th>\n",
       "      <th>cases_cov</th>\n",
       "    </tr>\n",
       "  </thead>\n",
       "  <tbody>\n",
       "    <tr>\n",
       "      <th>0</th>\n",
       "      <td>74.2</td>\n",
       "      <td>41.1</td>\n",
       "      <td>263.2</td>\n",
       "      <td>40.7</td>\n",
       "      <td>87.9</td>\n",
       "      <td>3.4</td>\n",
       "      <td>399</td>\n",
       "      <td>721</td>\n",
       "      <td>56</td>\n",
       "      <td>5</td>\n",
       "      <td>70.6</td>\n",
       "      <td>105.9</td>\n",
       "      <td>4276.4</td>\n",
       "    </tr>\n",
       "    <tr>\n",
       "      <th>1</th>\n",
       "      <td>72.0</td>\n",
       "      <td>41.3</td>\n",
       "      <td>293.9</td>\n",
       "      <td>41.8</td>\n",
       "      <td>166.1</td>\n",
       "      <td>4.4</td>\n",
       "      <td>540</td>\n",
       "      <td>729</td>\n",
       "      <td>66</td>\n",
       "      <td>8</td>\n",
       "      <td>71.1</td>\n",
       "      <td>113.5</td>\n",
       "      <td>6765.0</td>\n",
       "    </tr>\n",
       "    <tr>\n",
       "      <th>2</th>\n",
       "      <td>71.9</td>\n",
       "      <td>41.9</td>\n",
       "      <td>361.7</td>\n",
       "      <td>35.1</td>\n",
       "      <td>167.8</td>\n",
       "      <td>2.9</td>\n",
       "      <td>562</td>\n",
       "      <td>824</td>\n",
       "      <td>45</td>\n",
       "      <td>10</td>\n",
       "      <td>83.0</td>\n",
       "      <td>95.8</td>\n",
       "      <td>4815.1</td>\n",
       "    </tr>\n",
       "    <tr>\n",
       "      <th>3</th>\n",
       "      <td>73.7</td>\n",
       "      <td>41.9</td>\n",
       "      <td>262.8</td>\n",
       "      <td>51.5</td>\n",
       "      <td>223.3</td>\n",
       "      <td>5.0</td>\n",
       "      <td>435</td>\n",
       "      <td>563</td>\n",
       "      <td>32</td>\n",
       "      <td>6</td>\n",
       "      <td>80.0</td>\n",
       "      <td>108.8</td>\n",
       "      <td>6983.6</td>\n",
       "    </tr>\n",
       "    <tr>\n",
       "      <th>4</th>\n",
       "      <td>72.3</td>\n",
       "      <td>41.8</td>\n",
       "      <td>255.5</td>\n",
       "      <td>42.9</td>\n",
       "      <td>191.4</td>\n",
       "      <td>5.2</td>\n",
       "      <td>560</td>\n",
       "      <td>581</td>\n",
       "      <td>50</td>\n",
       "      <td>14</td>\n",
       "      <td>77.8</td>\n",
       "      <td>100.7</td>\n",
       "      <td>5699.8</td>\n",
       "    </tr>\n",
       "  </tbody>\n",
       "</table>\n",
       "</div>"
      ],
      "text/plain": [
       "    exp   avg  capacity   doc  deaths_cov  rate_gov  deaths_work  \\\n",
       "0  74.2  41.1     263.2  40.7        87.9       3.4          399   \n",
       "1  72.0  41.3     293.9  41.8       166.1       4.4          540   \n",
       "2  71.9  41.9     361.7  35.1       167.8       2.9          562   \n",
       "3  73.7  41.9     262.8  51.5       223.3       5.0          435   \n",
       "4  72.3  41.8     255.5  42.9       191.4       5.2          560   \n",
       "\n",
       "   deaths_blood  deaths_resp  deaths_inf   bed  nurse  cases_cov  \n",
       "0           721           56           5  70.6  105.9     4276.4  \n",
       "1           729           66           8  71.1  113.5     6765.0  \n",
       "2           824           45          10  83.0   95.8     4815.1  \n",
       "3           563           32           6  80.0  108.8     6983.6  \n",
       "4           581           50          14  77.8  100.7     5699.8  "
      ]
     },
     "execution_count": 75,
     "metadata": {},
     "output_type": "execute_result"
    }
   ],
   "source": [
    "search = ['exp', 'avg', 'capacity', 'doc', 'deaths_cov', 'rate_gov', 'deaths_work', 'deaths_blood', 'deaths_resp', 'deaths_inf', 'bed', 'nurse', 'cases_cov']\n",
    "med[search].head()"
   ]
  },
  {
   "cell_type": "code",
   "execution_count": 76,
   "id": "7ce3f4da",
   "metadata": {},
   "outputs": [],
   "source": [
    "corr_m = med[search].corr()"
   ]
  },
  {
   "cell_type": "code",
   "execution_count": 77,
   "id": "ebb718f5",
   "metadata": {},
   "outputs": [
    {
     "data": {
      "text/html": [
       "<div>\n",
       "<style scoped>\n",
       "    .dataframe tbody tr th:only-of-type {\n",
       "        vertical-align: middle;\n",
       "    }\n",
       "\n",
       "    .dataframe tbody tr th {\n",
       "        vertical-align: top;\n",
       "    }\n",
       "\n",
       "    .dataframe thead th {\n",
       "        text-align: right;\n",
       "    }\n",
       "</style>\n",
       "<table border=\"1\" class=\"dataframe\">\n",
       "  <thead>\n",
       "    <tr style=\"text-align: right;\">\n",
       "      <th></th>\n",
       "      <th>exp</th>\n",
       "      <th>avg</th>\n",
       "      <th>capacity</th>\n",
       "      <th>doc</th>\n",
       "      <th>deaths_cov</th>\n",
       "      <th>rate_gov</th>\n",
       "      <th>deaths_work</th>\n",
       "      <th>deaths_blood</th>\n",
       "      <th>deaths_resp</th>\n",
       "      <th>deaths_inf</th>\n",
       "      <th>bed</th>\n",
       "      <th>nurse</th>\n",
       "      <th>cases_cov</th>\n",
       "    </tr>\n",
       "  </thead>\n",
       "  <tbody>\n",
       "    <tr>\n",
       "      <th>exp</th>\n",
       "      <td>1.000000</td>\n",
       "      <td>0.052597</td>\n",
       "      <td>-0.607732</td>\n",
       "      <td>-0.211491</td>\n",
       "      <td>0.122972</td>\n",
       "      <td>0.280718</td>\n",
       "      <td>-0.887663</td>\n",
       "      <td>-0.151264</td>\n",
       "      <td>-0.380745</td>\n",
       "      <td>-0.469761</td>\n",
       "      <td>-0.597153</td>\n",
       "      <td>-0.513922</td>\n",
       "      <td>-0.081341</td>\n",
       "    </tr>\n",
       "    <tr>\n",
       "      <th>avg</th>\n",
       "      <td>0.052597</td>\n",
       "      <td>1.000000</td>\n",
       "      <td>0.193090</td>\n",
       "      <td>-0.191580</td>\n",
       "      <td>0.251468</td>\n",
       "      <td>0.139057</td>\n",
       "      <td>0.314677</td>\n",
       "      <td>0.696554</td>\n",
       "      <td>0.215159</td>\n",
       "      <td>-0.130207</td>\n",
       "      <td>-0.015706</td>\n",
       "      <td>-0.277021</td>\n",
       "      <td>0.041819</td>\n",
       "    </tr>\n",
       "    <tr>\n",
       "      <th>capacity</th>\n",
       "      <td>-0.607732</td>\n",
       "      <td>0.193090</td>\n",
       "      <td>1.000000</td>\n",
       "      <td>0.368972</td>\n",
       "      <td>0.175164</td>\n",
       "      <td>-0.195359</td>\n",
       "      <td>0.654938</td>\n",
       "      <td>0.215415</td>\n",
       "      <td>0.313040</td>\n",
       "      <td>0.102860</td>\n",
       "      <td>0.349050</td>\n",
       "      <td>0.498974</td>\n",
       "      <td>0.329067</td>\n",
       "    </tr>\n",
       "    <tr>\n",
       "      <th>doc</th>\n",
       "      <td>-0.211491</td>\n",
       "      <td>-0.191580</td>\n",
       "      <td>0.368972</td>\n",
       "      <td>1.000000</td>\n",
       "      <td>0.147348</td>\n",
       "      <td>0.055373</td>\n",
       "      <td>0.121884</td>\n",
       "      <td>-0.263762</td>\n",
       "      <td>-0.175218</td>\n",
       "      <td>0.111563</td>\n",
       "      <td>0.358099</td>\n",
       "      <td>0.494537</td>\n",
       "      <td>0.361127</td>\n",
       "    </tr>\n",
       "    <tr>\n",
       "      <th>deaths_cov</th>\n",
       "      <td>0.122972</td>\n",
       "      <td>0.251468</td>\n",
       "      <td>0.175164</td>\n",
       "      <td>0.147348</td>\n",
       "      <td>1.000000</td>\n",
       "      <td>0.093425</td>\n",
       "      <td>-0.020250</td>\n",
       "      <td>0.272082</td>\n",
       "      <td>-0.158096</td>\n",
       "      <td>-0.039274</td>\n",
       "      <td>0.027884</td>\n",
       "      <td>0.047469</td>\n",
       "      <td>0.516650</td>\n",
       "    </tr>\n",
       "    <tr>\n",
       "      <th>rate_gov</th>\n",
       "      <td>0.280718</td>\n",
       "      <td>0.139057</td>\n",
       "      <td>-0.195359</td>\n",
       "      <td>0.055373</td>\n",
       "      <td>0.093425</td>\n",
       "      <td>1.000000</td>\n",
       "      <td>-0.233818</td>\n",
       "      <td>-0.047865</td>\n",
       "      <td>-0.240587</td>\n",
       "      <td>0.013100</td>\n",
       "      <td>-0.238871</td>\n",
       "      <td>-0.269242</td>\n",
       "      <td>-0.006099</td>\n",
       "    </tr>\n",
       "    <tr>\n",
       "      <th>deaths_work</th>\n",
       "      <td>-0.887663</td>\n",
       "      <td>0.314677</td>\n",
       "      <td>0.654938</td>\n",
       "      <td>0.121884</td>\n",
       "      <td>-0.020250</td>\n",
       "      <td>-0.233818</td>\n",
       "      <td>1.000000</td>\n",
       "      <td>0.424340</td>\n",
       "      <td>0.502604</td>\n",
       "      <td>0.447072</td>\n",
       "      <td>0.525479</td>\n",
       "      <td>0.361207</td>\n",
       "      <td>0.107575</td>\n",
       "    </tr>\n",
       "    <tr>\n",
       "      <th>deaths_blood</th>\n",
       "      <td>-0.151264</td>\n",
       "      <td>0.696554</td>\n",
       "      <td>0.215415</td>\n",
       "      <td>-0.263762</td>\n",
       "      <td>0.272082</td>\n",
       "      <td>-0.047865</td>\n",
       "      <td>0.424340</td>\n",
       "      <td>1.000000</td>\n",
       "      <td>0.331084</td>\n",
       "      <td>0.016512</td>\n",
       "      <td>0.142106</td>\n",
       "      <td>-0.167890</td>\n",
       "      <td>0.131101</td>\n",
       "    </tr>\n",
       "    <tr>\n",
       "      <th>deaths_resp</th>\n",
       "      <td>-0.380745</td>\n",
       "      <td>0.215159</td>\n",
       "      <td>0.313040</td>\n",
       "      <td>-0.175218</td>\n",
       "      <td>-0.158096</td>\n",
       "      <td>-0.240587</td>\n",
       "      <td>0.502604</td>\n",
       "      <td>0.331084</td>\n",
       "      <td>1.000000</td>\n",
       "      <td>0.003672</td>\n",
       "      <td>0.266967</td>\n",
       "      <td>0.109706</td>\n",
       "      <td>-0.074069</td>\n",
       "    </tr>\n",
       "    <tr>\n",
       "      <th>deaths_inf</th>\n",
       "      <td>-0.469761</td>\n",
       "      <td>-0.130207</td>\n",
       "      <td>0.102860</td>\n",
       "      <td>0.111563</td>\n",
       "      <td>-0.039274</td>\n",
       "      <td>0.013100</td>\n",
       "      <td>0.447072</td>\n",
       "      <td>0.016512</td>\n",
       "      <td>0.003672</td>\n",
       "      <td>1.000000</td>\n",
       "      <td>0.328097</td>\n",
       "      <td>0.087530</td>\n",
       "      <td>-0.204136</td>\n",
       "    </tr>\n",
       "    <tr>\n",
       "      <th>bed</th>\n",
       "      <td>-0.597153</td>\n",
       "      <td>-0.015706</td>\n",
       "      <td>0.349050</td>\n",
       "      <td>0.358099</td>\n",
       "      <td>0.027884</td>\n",
       "      <td>-0.238871</td>\n",
       "      <td>0.525479</td>\n",
       "      <td>0.142106</td>\n",
       "      <td>0.266967</td>\n",
       "      <td>0.328097</td>\n",
       "      <td>1.000000</td>\n",
       "      <td>0.456092</td>\n",
       "      <td>0.099394</td>\n",
       "    </tr>\n",
       "    <tr>\n",
       "      <th>nurse</th>\n",
       "      <td>-0.513922</td>\n",
       "      <td>-0.277021</td>\n",
       "      <td>0.498974</td>\n",
       "      <td>0.494537</td>\n",
       "      <td>0.047469</td>\n",
       "      <td>-0.269242</td>\n",
       "      <td>0.361207</td>\n",
       "      <td>-0.167890</td>\n",
       "      <td>0.109706</td>\n",
       "      <td>0.087530</td>\n",
       "      <td>0.456092</td>\n",
       "      <td>1.000000</td>\n",
       "      <td>0.292547</td>\n",
       "    </tr>\n",
       "    <tr>\n",
       "      <th>cases_cov</th>\n",
       "      <td>-0.081341</td>\n",
       "      <td>0.041819</td>\n",
       "      <td>0.329067</td>\n",
       "      <td>0.361127</td>\n",
       "      <td>0.516650</td>\n",
       "      <td>-0.006099</td>\n",
       "      <td>0.107575</td>\n",
       "      <td>0.131101</td>\n",
       "      <td>-0.074069</td>\n",
       "      <td>-0.204136</td>\n",
       "      <td>0.099394</td>\n",
       "      <td>0.292547</td>\n",
       "      <td>1.000000</td>\n",
       "    </tr>\n",
       "  </tbody>\n",
       "</table>\n",
       "</div>"
      ],
      "text/plain": [
       "                   exp       avg  capacity       doc  deaths_cov  rate_gov  \\\n",
       "exp           1.000000  0.052597 -0.607732 -0.211491    0.122972  0.280718   \n",
       "avg           0.052597  1.000000  0.193090 -0.191580    0.251468  0.139057   \n",
       "capacity     -0.607732  0.193090  1.000000  0.368972    0.175164 -0.195359   \n",
       "doc          -0.211491 -0.191580  0.368972  1.000000    0.147348  0.055373   \n",
       "deaths_cov    0.122972  0.251468  0.175164  0.147348    1.000000  0.093425   \n",
       "rate_gov      0.280718  0.139057 -0.195359  0.055373    0.093425  1.000000   \n",
       "deaths_work  -0.887663  0.314677  0.654938  0.121884   -0.020250 -0.233818   \n",
       "deaths_blood -0.151264  0.696554  0.215415 -0.263762    0.272082 -0.047865   \n",
       "deaths_resp  -0.380745  0.215159  0.313040 -0.175218   -0.158096 -0.240587   \n",
       "deaths_inf   -0.469761 -0.130207  0.102860  0.111563   -0.039274  0.013100   \n",
       "bed          -0.597153 -0.015706  0.349050  0.358099    0.027884 -0.238871   \n",
       "nurse        -0.513922 -0.277021  0.498974  0.494537    0.047469 -0.269242   \n",
       "cases_cov    -0.081341  0.041819  0.329067  0.361127    0.516650 -0.006099   \n",
       "\n",
       "              deaths_work  deaths_blood  deaths_resp  deaths_inf       bed  \\\n",
       "exp             -0.887663     -0.151264    -0.380745   -0.469761 -0.597153   \n",
       "avg              0.314677      0.696554     0.215159   -0.130207 -0.015706   \n",
       "capacity         0.654938      0.215415     0.313040    0.102860  0.349050   \n",
       "doc              0.121884     -0.263762    -0.175218    0.111563  0.358099   \n",
       "deaths_cov      -0.020250      0.272082    -0.158096   -0.039274  0.027884   \n",
       "rate_gov        -0.233818     -0.047865    -0.240587    0.013100 -0.238871   \n",
       "deaths_work      1.000000      0.424340     0.502604    0.447072  0.525479   \n",
       "deaths_blood     0.424340      1.000000     0.331084    0.016512  0.142106   \n",
       "deaths_resp      0.502604      0.331084     1.000000    0.003672  0.266967   \n",
       "deaths_inf       0.447072      0.016512     0.003672    1.000000  0.328097   \n",
       "bed              0.525479      0.142106     0.266967    0.328097  1.000000   \n",
       "nurse            0.361207     -0.167890     0.109706    0.087530  0.456092   \n",
       "cases_cov        0.107575      0.131101    -0.074069   -0.204136  0.099394   \n",
       "\n",
       "                 nurse  cases_cov  \n",
       "exp          -0.513922  -0.081341  \n",
       "avg          -0.277021   0.041819  \n",
       "capacity      0.498974   0.329067  \n",
       "doc           0.494537   0.361127  \n",
       "deaths_cov    0.047469   0.516650  \n",
       "rate_gov     -0.269242  -0.006099  \n",
       "deaths_work   0.361207   0.107575  \n",
       "deaths_blood -0.167890   0.131101  \n",
       "deaths_resp   0.109706  -0.074069  \n",
       "deaths_inf    0.087530  -0.204136  \n",
       "bed           0.456092   0.099394  \n",
       "nurse         1.000000   0.292547  \n",
       "cases_cov     0.292547   1.000000  "
      ]
     },
     "execution_count": 77,
     "metadata": {},
     "output_type": "execute_result"
    }
   ],
   "source": [
    "corr_m"
   ]
  },
  {
   "cell_type": "markdown",
   "id": "b304e308",
   "metadata": {},
   "source": [
    "**Визуализируем полученную матрицу**"
   ]
  },
  {
   "cell_type": "code",
   "execution_count": 78,
   "id": "a3d0c6b7",
   "metadata": {},
   "outputs": [
    {
     "data": {
      "text/plain": [
       "<AxesSubplot:>"
      ]
     },
     "execution_count": 78,
     "metadata": {},
     "output_type": "execute_result"
    },
    {
     "data": {
      "image/png": "[encoded data removed]",
      "text/plain": [
       "<Figure size 936x720 with 2 Axes>"
      ]
     },
     "metadata": {
      "needs_background": "light"
     },
     "output_type": "display_data"
    }
   ],
   "source": [
    "plt.figure(figsize=(13,10))\n",
    "sns.heatmap(corr_m, center=0, annot=True)"
   ]
  },
  {
   "cell_type": "markdown",
   "id": "6f5644a6",
   "metadata": {},
   "source": [
    "**Видно, что есть сильные обратные и прямые связи. Теперь построим диаграмму рассеяния для каждой пары признаков со связями умеренной значимости c показателем deaths_work. Умеренная значимость по шкале Чеддока - при коэффициенте корреляции от 0.3 по модулю и выше**"
   ]
  },
  {
   "cell_type": "code",
   "execution_count": 86,
   "id": "d2b69ef0",
   "metadata": {},
   "outputs": [
    {
     "name": "stdout",
     "output_type": "stream",
     "text": [
      "Коэффициент корреляции -0.8876628932794225\n"
     ]
    },
    {
     "data": {
      "image/png": "[encoded data removed]",
      "text/plain": [
       "<Figure size 432x288 with 1 Axes>"
      ]
     },
     "metadata": {
      "needs_background": "light"
     },
     "output_type": "display_data"
    },
    {
     "name": "stdout",
     "output_type": "stream",
     "text": [
      "Коэффициент корреляции 0.31467727558847913\n"
     ]
    },
    {
     "data": {
      "image/png": "[encoded data removed]",
      "text/plain": [
       "<Figure size 432x288 with 1 Axes>"
      ]
     },
     "metadata": {
      "needs_background": "light"
     },
     "output_type": "display_data"
    },
    {
     "name": "stdout",
     "output_type": "stream",
     "text": [
      "Коэффициент корреляции 0.654938459560477\n"
     ]
    },
    {
     "data": {
      "image/png": "[encoded data removed]",
      "text/plain": [
       "<Figure size 432x288 with 1 Axes>"
      ]
     },
     "metadata": {
      "needs_background": "light"
     },
     "output_type": "display_data"
    },
    {
     "name": "stdout",
     "output_type": "stream",
     "text": [
      "Коэффициент корреляции 0.9999999999999999\n"
     ]
    },
    {
     "data": {
      "image/png": "[encoded data removed]",
      "text/plain": [
       "<Figure size 432x288 with 1 Axes>"
      ]
     },
     "metadata": {
      "needs_background": "light"
     },
     "output_type": "display_data"
    },
    {
     "name": "stdout",
     "output_type": "stream",
     "text": [
      "Коэффициент корреляции 0.42433964682101233\n"
     ]
    },
    {
     "data": {
      "image/png": "[encoded data removed]",
      "text/plain": [
       "<Figure size 432x288 with 1 Axes>"
      ]
     },
     "metadata": {
      "needs_background": "light"
     },
     "output_type": "display_data"
    },
    {
     "name": "stdout",
     "output_type": "stream",
     "text": [
      "Коэффициент корреляции 0.5026037033715903\n"
     ]
    },
    {
     "data": {
      "image/png": "[encoded data removed]",
      "text/plain": [
       "<Figure size 432x288 with 1 Axes>"
      ]
     },
     "metadata": {
      "needs_background": "light"
     },
     "output_type": "display_data"
    },
    {
     "name": "stdout",
     "output_type": "stream",
     "text": [
      "Коэффициент корреляции 0.44707229058779036\n"
     ]
    },
    {
     "data": {
      "image/png": "[encoded data removed]",
      "text/plain": [
       "<Figure size 432x288 with 1 Axes>"
      ]
     },
     "metadata": {
      "needs_background": "light"
     },
     "output_type": "display_data"
    },
    {
     "name": "stdout",
     "output_type": "stream",
     "text": [
      "Коэффициент корреляции 0.525479209016793\n"
     ]
    },
    {
     "data": {
      "image/png": "[encoded data removed]",
      "text/plain": [
       "<Figure size 432x288 with 1 Axes>"
      ]
     },
     "metadata": {
      "needs_background": "light"
     },
     "output_type": "display_data"
    },
    {
     "name": "stdout",
     "output_type": "stream",
     "text": [
      "Коэффициент корреляции 0.3612071458080848\n"
     ]
    },
    {
     "data": {
      "image/png": "[encoded data removed]",
      "text/plain": [
       "<Figure size 432x288 with 1 Axes>"
      ]
     },
     "metadata": {
      "needs_background": "light"
     },
     "output_type": "display_data"
    }
   ],
   "source": [
    "level = 0.3\n",
    "for i in search[:-1]:\n",
    "    curr_corr = med[i].corr(med.deaths_work)\n",
    "    if abs(curr_corr) >= level:\n",
    "        sns.scatterplot(x=\"deaths_work\", y=i, data=med)\n",
    "        print(\"Коэффициент корреляции \" + str(curr_corr))\n",
    "        plt.title(\"Связь между смертностью в трудоспособном возрасте и \"+str(i))\n",
    "        plt.show()"
   ]
  },
  {
   "cell_type": "markdown",
   "id": "54703faf",
   "metadata": {},
   "source": [
    "Вполне предсказуемо мы наблюдаем высокую силу связи между смертностью в трудоспособном возрасте и ожидаемой продолжительностью жизни **(-0,89)**. Чем выше смертность в трудоспособном возрасте - тем ниже значение ожидаемой продолжительности жизни.\n",
    "\n",
    "Намного более удивительным является наблюдение другого характера. Перед началом исследования, было предположение, что одними из факторов смертности в целом, и в трудоспособном возрасте в частности, будут нехватка коечного фонда, более низкое количество медицинского персонала в регионах с повышенными показателями смертности, меньшая мощность амбулаторных поликлинических организаций и следовательно сложность в получении медицинской помощи.\n",
    "\n",
    "Однако, как показывают результаты исследования, отношение смертности в трудоспособном возрасте и мощности амбулаторных поликлинических организаций на 10 тыс. человек характеризуется заметным уровнем связи по шкале Чеддока **(0,65)**, отношение смертности в трудоспособном возрасте и количества больничных коек на 10 тыс. человек также характеризуется заметным уровнем связи по шкале Чеддока **(0,52)**. Кроме того, умеренной связью характеризуется отношение смертности в трудоспособном возрасте и количество среднего медицинского персонала **(0,36)**.\n",
    "\n",
    "Можно предположить, что недостаточная работа в сфере предупреждения болезней, а также социально - экономические, экологические, природные и другие факторы, влияющие на развитие заболеваний, компенсируются органами власти регионов, путем предоставления широкой базы амбулаторий и стационаров. Заметный уровень связи наблюдаем между смертностью в трудоспособном возрасте и смертностью, связанной с болезнями органов дыхания **(0,5)**, которые как правило вызваны экологическими и климатическими особенностями региона, а также вредными привычками - в частности курением. "
   ]
  },
  {
   "cell_type": "code",
   "execution_count": 80,
   "id": "5a856cfd",
   "metadata": {},
   "outputs": [
    {
     "name": "stdout",
     "output_type": "stream",
     "text": [
      "Коэффициент корреляции -0.6077315824948891\n"
     ]
    },
    {
     "data": {
      "text/plain": [
       "<AxesSubplot:xlabel='capacity', ylabel='exp'>"
      ]
     },
     "execution_count": 80,
     "metadata": {},
     "output_type": "execute_result"
    },
    {
     "data": {
      "image/png": "[encoded data removed]",
      "text/plain": [
       "<Figure size 432x288 with 1 Axes>"
      ]
     },
     "metadata": {
      "needs_background": "light"
     },
     "output_type": "display_data"
    }
   ],
   "source": [
    "curr_co = med['capacity'].corr(med.exp)\n",
    "curr_co\n",
    "print(\"Коэффициент корреляции \" + str(curr_co))\n",
    "sns.scatterplot(x=\"capacity\", y='exp', data=med)"
   ]
  },
  {
   "cell_type": "markdown",
   "id": "d90882cb",
   "metadata": {},
   "source": [
    "Данный график отражает заметную связь между ожидаемой продолжительностью жизни и мощностью амбулаторных поликлинических организаций **(-0,61)**. Чем выше продолжительность жизни - тем меньше мощность амбулаторий в регионе.\n",
    "\n",
    "На основании вышеописанных графиков, можно предположить, что количество медицинского персонала, наличие больших объемов коечного фонда, возможность приема большого количества пациентов, не являются определяющими факторами в вопросе увеличения продолжительности жизни или снижения смертности. Скорее всего, их можно рассматривать как часть системы предупреждения и лечения заболеваний, а не как основу. "
   ]
  },
  {
   "cell_type": "markdown",
   "id": "1bb4ca45",
   "metadata": {},
   "source": [
    "## COVID-19 <a class=\"anchor\" id=\"second-bullet\"></a>"
   ]
  },
  {
   "cell_type": "code",
   "execution_count": 54,
   "id": "e69c7b51",
   "metadata": {},
   "outputs": [
    {
     "data": {
      "text/plain": [
       "Text(0.5, 1.0, '3 sigma и 95 квантиль для распределения')"
      ]
     },
     "execution_count": 54,
     "metadata": {},
     "output_type": "execute_result"
    },
    {
     "data": {
      "image/png": "[encoded data removed]",
      "text/plain": [
       "<Figure size 432x288 with 1 Axes>"
      ]
     },
     "metadata": {
      "needs_background": "light"
     },
     "output_type": "display_data"
    }
   ],
   "source": [
    "upper_level = med['deaths_cov'].mean() + 3*med['deaths_cov'].std()\n",
    "lower_level = med['deaths_cov'].mean() - 3*med['deaths_cov'].std()\n",
    "level_95 = np.percentile(med['deaths_cov'], 95)\n",
    "\n",
    "sns.histplot(med['deaths_cov'])\n",
    "plt.axvline(x=lower_level, color=\"r\", linestyle=\"-\")\n",
    "plt.axvline(x=upper_level, color=\"r\", linestyle=\"-\")\n",
    "plt.axvline(x=level_95, color=\"b\", linestyle=\"-\")\n",
    "plt.title(\"3 sigma и 95 квантиль для распределения\")"
   ]
  },
  {
   "cell_type": "markdown",
   "id": "5bc65c9b",
   "metadata": {},
   "source": [
    "**Построили график распределения смертности от Ковид - 19. Кроме того, воспользовались правилом трех сигм и выделили 95% квантиль.**\n",
    "\n",
    "**Отфильтруем данные свыше 95% квантиля.**"
   ]
  },
  {
   "cell_type": "code",
   "execution_count": 81,
   "id": "90449a67",
   "metadata": {},
   "outputs": [
    {
     "data": {
      "text/html": [
       "<div>\n",
       "<style scoped>\n",
       "    .dataframe tbody tr th:only-of-type {\n",
       "        vertical-align: middle;\n",
       "    }\n",
       "\n",
       "    .dataframe tbody tr th {\n",
       "        vertical-align: top;\n",
       "    }\n",
       "\n",
       "    .dataframe thead th {\n",
       "        text-align: right;\n",
       "    }\n",
       "</style>\n",
       "<table border=\"1\" class=\"dataframe\">\n",
       "  <thead>\n",
       "    <tr style=\"text-align: right;\">\n",
       "      <th></th>\n",
       "      <th>Reg</th>\n",
       "      <th>popul</th>\n",
       "      <th>exp</th>\n",
       "      <th>avg</th>\n",
       "      <th>deaths_work</th>\n",
       "      <th>deaths_blood</th>\n",
       "      <th>deaths_resp</th>\n",
       "      <th>deaths_inf</th>\n",
       "      <th>bed</th>\n",
       "      <th>capacity</th>\n",
       "      <th>doc</th>\n",
       "      <th>nurse</th>\n",
       "      <th>cases_cov</th>\n",
       "      <th>deaths_cov</th>\n",
       "      <th>rate_gov</th>\n",
       "    </tr>\n",
       "  </thead>\n",
       "  <tbody>\n",
       "    <tr>\n",
       "      <th>24</th>\n",
       "      <td>Murmansk</td>\n",
       "      <td>748056</td>\n",
       "      <td>72.1</td>\n",
       "      <td>38.5</td>\n",
       "      <td>498</td>\n",
       "      <td>575</td>\n",
       "      <td>20</td>\n",
       "      <td>9</td>\n",
       "      <td>91.1</td>\n",
       "      <td>297.3</td>\n",
       "      <td>51.8</td>\n",
       "      <td>130.4</td>\n",
       "      <td>10863.5</td>\n",
       "      <td>320.3</td>\n",
       "      <td>4.4</td>\n",
       "    </tr>\n",
       "    <tr>\n",
       "      <th>27</th>\n",
       "      <td>Spb</td>\n",
       "      <td>5383890</td>\n",
       "      <td>76.2</td>\n",
       "      <td>41.2</td>\n",
       "      <td>354</td>\n",
       "      <td>621</td>\n",
       "      <td>19</td>\n",
       "      <td>19</td>\n",
       "      <td>82.4</td>\n",
       "      <td>350.3</td>\n",
       "      <td>82.1</td>\n",
       "      <td>110.2</td>\n",
       "      <td>13862.5</td>\n",
       "      <td>463.5</td>\n",
       "      <td>6.5</td>\n",
       "    </tr>\n",
       "    <tr>\n",
       "      <th>35</th>\n",
       "      <td>Sevastopol</td>\n",
       "      <td>443212</td>\n",
       "      <td>74.0</td>\n",
       "      <td>40.7</td>\n",
       "      <td>424</td>\n",
       "      <td>983</td>\n",
       "      <td>32</td>\n",
       "      <td>28</td>\n",
       "      <td>85.7</td>\n",
       "      <td>196.0</td>\n",
       "      <td>49.4</td>\n",
       "      <td>94.9</td>\n",
       "      <td>9826.0</td>\n",
       "      <td>342.4</td>\n",
       "      <td>5.1</td>\n",
       "    </tr>\n",
       "    <tr>\n",
       "      <th>53</th>\n",
       "      <td>Penza</td>\n",
       "      <td>1318103</td>\n",
       "      <td>73.9</td>\n",
       "      <td>42.1</td>\n",
       "      <td>453</td>\n",
       "      <td>700</td>\n",
       "      <td>37</td>\n",
       "      <td>10</td>\n",
       "      <td>75.8</td>\n",
       "      <td>273.3</td>\n",
       "      <td>43.0</td>\n",
       "      <td>105.2</td>\n",
       "      <td>6339.9</td>\n",
       "      <td>285.2</td>\n",
       "      <td>4.3</td>\n",
       "    </tr>\n",
       "    <tr>\n",
       "      <th>65</th>\n",
       "      <td>Hakasiya</td>\n",
       "      <td>536167</td>\n",
       "      <td>70.6</td>\n",
       "      <td>37.7</td>\n",
       "      <td>531</td>\n",
       "      <td>618</td>\n",
       "      <td>62</td>\n",
       "      <td>18</td>\n",
       "      <td>63.6</td>\n",
       "      <td>340.2</td>\n",
       "      <td>43.8</td>\n",
       "      <td>104.8</td>\n",
       "      <td>8605.2</td>\n",
       "      <td>266.8</td>\n",
       "      <td>2.9</td>\n",
       "    </tr>\n",
       "  </tbody>\n",
       "</table>\n",
       "</div>"
      ],
      "text/plain": [
       "           Reg    popul   exp   avg  deaths_work  deaths_blood  deaths_resp  \\\n",
       "24    Murmansk   748056  72.1  38.5          498           575           20   \n",
       "27         Spb  5383890  76.2  41.2          354           621           19   \n",
       "35  Sevastopol   443212  74.0  40.7          424           983           32   \n",
       "53       Penza  1318103  73.9  42.1          453           700           37   \n",
       "65    Hakasiya   536167  70.6  37.7          531           618           62   \n",
       "\n",
       "    deaths_inf   bed  capacity   doc  nurse  cases_cov  deaths_cov  rate_gov  \n",
       "24           9  91.1     297.3  51.8  130.4    10863.5       320.3       4.4  \n",
       "27          19  82.4     350.3  82.1  110.2    13862.5       463.5       6.5  \n",
       "35          28  85.7     196.0  49.4   94.9     9826.0       342.4       5.1  \n",
       "53          10  75.8     273.3  43.0  105.2     6339.9       285.2       4.3  \n",
       "65          18  63.6     340.2  43.8  104.8     8605.2       266.8       2.9  "
      ]
     },
     "execution_count": 81,
     "metadata": {},
     "output_type": "execute_result"
    }
   ],
   "source": [
    "kvant = med[med['deaths_cov'] >= level_95]\n",
    "kvant"
   ]
  },
  {
   "cell_type": "markdown",
   "id": "8bdfcdbd",
   "metadata": {},
   "source": [
    "**По количеству умерших от COVID-19 на 100 тысяч человек, за пределы 95% доверительного интервала выходят 5 регионов. Проанализируем данную выборку и сравним ее со значениями общей выборки.**"
   ]
  },
  {
   "cell_type": "code",
   "execution_count": 60,
   "id": "b8a70b85",
   "metadata": {},
   "outputs": [
    {
     "data": {
      "text/html": [
       "<div>\n",
       "<style scoped>\n",
       "    .dataframe tbody tr th:only-of-type {\n",
       "        vertical-align: middle;\n",
       "    }\n",
       "\n",
       "    .dataframe tbody tr th {\n",
       "        vertical-align: top;\n",
       "    }\n",
       "\n",
       "    .dataframe thead th {\n",
       "        text-align: right;\n",
       "    }\n",
       "</style>\n",
       "<table border=\"1\" class=\"dataframe\">\n",
       "  <thead>\n",
       "    <tr style=\"text-align: right;\">\n",
       "      <th></th>\n",
       "      <th>popul</th>\n",
       "      <th>exp</th>\n",
       "      <th>avg</th>\n",
       "      <th>deaths_work</th>\n",
       "      <th>deaths_blood</th>\n",
       "      <th>deaths_resp</th>\n",
       "      <th>deaths_inf</th>\n",
       "      <th>bed</th>\n",
       "      <th>capacity</th>\n",
       "      <th>doc</th>\n",
       "      <th>nurse</th>\n",
       "      <th>cases_cov</th>\n",
       "      <th>deaths_cov</th>\n",
       "      <th>rate_gov</th>\n",
       "    </tr>\n",
       "  </thead>\n",
       "  <tbody>\n",
       "    <tr>\n",
       "      <th>count</th>\n",
       "      <td>5.000000e+00</td>\n",
       "      <td>5.00000</td>\n",
       "      <td>5.000000</td>\n",
       "      <td>5.000000</td>\n",
       "      <td>5.000000</td>\n",
       "      <td>5.000000</td>\n",
       "      <td>5.000000</td>\n",
       "      <td>5.000000</td>\n",
       "      <td>5.000000</td>\n",
       "      <td>5.000000</td>\n",
       "      <td>5.000000</td>\n",
       "      <td>5.000000</td>\n",
       "      <td>5.000000</td>\n",
       "      <td>5.000000</td>\n",
       "    </tr>\n",
       "    <tr>\n",
       "      <th>mean</th>\n",
       "      <td>1.685886e+06</td>\n",
       "      <td>73.36000</td>\n",
       "      <td>40.040000</td>\n",
       "      <td>452.000000</td>\n",
       "      <td>699.400000</td>\n",
       "      <td>34.000000</td>\n",
       "      <td>16.800000</td>\n",
       "      <td>79.720000</td>\n",
       "      <td>291.420000</td>\n",
       "      <td>54.020000</td>\n",
       "      <td>109.100000</td>\n",
       "      <td>9899.420000</td>\n",
       "      <td>335.640000</td>\n",
       "      <td>4.640000</td>\n",
       "    </tr>\n",
       "    <tr>\n",
       "      <th>std</th>\n",
       "      <td>2.095001e+06</td>\n",
       "      <td>2.11967</td>\n",
       "      <td>1.862257</td>\n",
       "      <td>68.458016</td>\n",
       "      <td>164.831126</td>\n",
       "      <td>17.449928</td>\n",
       "      <td>7.726578</td>\n",
       "      <td>10.579083</td>\n",
       "      <td>61.875334</td>\n",
       "      <td>16.129538</td>\n",
       "      <td>13.136209</td>\n",
       "      <td>2783.254923</td>\n",
       "      <td>77.318064</td>\n",
       "      <td>1.310725</td>\n",
       "    </tr>\n",
       "    <tr>\n",
       "      <th>min</th>\n",
       "      <td>4.432120e+05</td>\n",
       "      <td>70.60000</td>\n",
       "      <td>37.700000</td>\n",
       "      <td>354.000000</td>\n",
       "      <td>575.000000</td>\n",
       "      <td>19.000000</td>\n",
       "      <td>9.000000</td>\n",
       "      <td>63.600000</td>\n",
       "      <td>196.000000</td>\n",
       "      <td>43.000000</td>\n",
       "      <td>94.900000</td>\n",
       "      <td>6339.900000</td>\n",
       "      <td>266.800000</td>\n",
       "      <td>2.900000</td>\n",
       "    </tr>\n",
       "    <tr>\n",
       "      <th>25%</th>\n",
       "      <td>5.361670e+05</td>\n",
       "      <td>72.10000</td>\n",
       "      <td>38.500000</td>\n",
       "      <td>424.000000</td>\n",
       "      <td>618.000000</td>\n",
       "      <td>20.000000</td>\n",
       "      <td>10.000000</td>\n",
       "      <td>75.800000</td>\n",
       "      <td>273.300000</td>\n",
       "      <td>43.800000</td>\n",
       "      <td>104.800000</td>\n",
       "      <td>8605.200000</td>\n",
       "      <td>285.200000</td>\n",
       "      <td>4.300000</td>\n",
       "    </tr>\n",
       "    <tr>\n",
       "      <th>50%</th>\n",
       "      <td>7.480560e+05</td>\n",
       "      <td>73.90000</td>\n",
       "      <td>40.700000</td>\n",
       "      <td>453.000000</td>\n",
       "      <td>621.000000</td>\n",
       "      <td>32.000000</td>\n",
       "      <td>18.000000</td>\n",
       "      <td>82.400000</td>\n",
       "      <td>297.300000</td>\n",
       "      <td>49.400000</td>\n",
       "      <td>105.200000</td>\n",
       "      <td>9826.000000</td>\n",
       "      <td>320.300000</td>\n",
       "      <td>4.400000</td>\n",
       "    </tr>\n",
       "    <tr>\n",
       "      <th>75%</th>\n",
       "      <td>1.318103e+06</td>\n",
       "      <td>74.00000</td>\n",
       "      <td>41.200000</td>\n",
       "      <td>498.000000</td>\n",
       "      <td>700.000000</td>\n",
       "      <td>37.000000</td>\n",
       "      <td>19.000000</td>\n",
       "      <td>85.700000</td>\n",
       "      <td>340.200000</td>\n",
       "      <td>51.800000</td>\n",
       "      <td>110.200000</td>\n",
       "      <td>10863.500000</td>\n",
       "      <td>342.400000</td>\n",
       "      <td>5.100000</td>\n",
       "    </tr>\n",
       "    <tr>\n",
       "      <th>max</th>\n",
       "      <td>5.383890e+06</td>\n",
       "      <td>76.20000</td>\n",
       "      <td>42.100000</td>\n",
       "      <td>531.000000</td>\n",
       "      <td>983.000000</td>\n",
       "      <td>62.000000</td>\n",
       "      <td>28.000000</td>\n",
       "      <td>91.100000</td>\n",
       "      <td>350.300000</td>\n",
       "      <td>82.100000</td>\n",
       "      <td>130.400000</td>\n",
       "      <td>13862.500000</td>\n",
       "      <td>463.500000</td>\n",
       "      <td>6.500000</td>\n",
       "    </tr>\n",
       "  </tbody>\n",
       "</table>\n",
       "</div>"
      ],
      "text/plain": [
       "              popul       exp        avg  deaths_work  deaths_blood  \\\n",
       "count  5.000000e+00   5.00000   5.000000     5.000000      5.000000   \n",
       "mean   1.685886e+06  73.36000  40.040000   452.000000    699.400000   \n",
       "std    2.095001e+06   2.11967   1.862257    68.458016    164.831126   \n",
       "min    4.432120e+05  70.60000  37.700000   354.000000    575.000000   \n",
       "25%    5.361670e+05  72.10000  38.500000   424.000000    618.000000   \n",
       "50%    7.480560e+05  73.90000  40.700000   453.000000    621.000000   \n",
       "75%    1.318103e+06  74.00000  41.200000   498.000000    700.000000   \n",
       "max    5.383890e+06  76.20000  42.100000   531.000000    983.000000   \n",
       "\n",
       "       deaths_resp  deaths_inf        bed    capacity        doc       nurse  \\\n",
       "count     5.000000    5.000000   5.000000    5.000000   5.000000    5.000000   \n",
       "mean     34.000000   16.800000  79.720000  291.420000  54.020000  109.100000   \n",
       "std      17.449928    7.726578  10.579083   61.875334  16.129538   13.136209   \n",
       "min      19.000000    9.000000  63.600000  196.000000  43.000000   94.900000   \n",
       "25%      20.000000   10.000000  75.800000  273.300000  43.800000  104.800000   \n",
       "50%      32.000000   18.000000  82.400000  297.300000  49.400000  105.200000   \n",
       "75%      37.000000   19.000000  85.700000  340.200000  51.800000  110.200000   \n",
       "max      62.000000   28.000000  91.100000  350.300000  82.100000  130.400000   \n",
       "\n",
       "          cases_cov  deaths_cov  rate_gov  \n",
       "count      5.000000    5.000000  5.000000  \n",
       "mean    9899.420000  335.640000  4.640000  \n",
       "std     2783.254923   77.318064  1.310725  \n",
       "min     6339.900000  266.800000  2.900000  \n",
       "25%     8605.200000  285.200000  4.300000  \n",
       "50%     9826.000000  320.300000  4.400000  \n",
       "75%    10863.500000  342.400000  5.100000  \n",
       "max    13862.500000  463.500000  6.500000  "
      ]
     },
     "execution_count": 60,
     "metadata": {},
     "output_type": "execute_result"
    }
   ],
   "source": [
    "kvant.describe()"
   ]
  },
  {
   "cell_type": "code",
   "execution_count": 59,
   "id": "9e443de3",
   "metadata": {},
   "outputs": [
    {
     "data": {
      "text/html": [
       "<div>\n",
       "<style scoped>\n",
       "    .dataframe tbody tr th:only-of-type {\n",
       "        vertical-align: middle;\n",
       "    }\n",
       "\n",
       "    .dataframe tbody tr th {\n",
       "        vertical-align: top;\n",
       "    }\n",
       "\n",
       "    .dataframe thead th {\n",
       "        text-align: right;\n",
       "    }\n",
       "</style>\n",
       "<table border=\"1\" class=\"dataframe\">\n",
       "  <thead>\n",
       "    <tr style=\"text-align: right;\">\n",
       "      <th></th>\n",
       "      <th>popul</th>\n",
       "      <th>exp</th>\n",
       "      <th>avg</th>\n",
       "      <th>deaths_work</th>\n",
       "      <th>deaths_blood</th>\n",
       "      <th>deaths_resp</th>\n",
       "      <th>deaths_inf</th>\n",
       "      <th>bed</th>\n",
       "      <th>capacity</th>\n",
       "      <th>doc</th>\n",
       "      <th>nurse</th>\n",
       "      <th>cases_cov</th>\n",
       "      <th>deaths_cov</th>\n",
       "      <th>rate_gov</th>\n",
       "    </tr>\n",
       "  </thead>\n",
       "  <tbody>\n",
       "    <tr>\n",
       "      <th>count</th>\n",
       "      <td>8.400000e+01</td>\n",
       "      <td>84.000000</td>\n",
       "      <td>84.000000</td>\n",
       "      <td>84.00000</td>\n",
       "      <td>84.000000</td>\n",
       "      <td>84.000000</td>\n",
       "      <td>84.000000</td>\n",
       "      <td>84.000000</td>\n",
       "      <td>84.000000</td>\n",
       "      <td>84.000000</td>\n",
       "      <td>84.000000</td>\n",
       "      <td>84.000000</td>\n",
       "      <td>84.000000</td>\n",
       "      <td>84.000000</td>\n",
       "    </tr>\n",
       "    <tr>\n",
       "      <th>mean</th>\n",
       "      <td>1.747390e+06</td>\n",
       "      <td>72.488095</td>\n",
       "      <td>39.094048</td>\n",
       "      <td>484.47619</td>\n",
       "      <td>564.535714</td>\n",
       "      <td>43.476190</td>\n",
       "      <td>19.035714</td>\n",
       "      <td>80.004762</td>\n",
       "      <td>282.278571</td>\n",
       "      <td>47.860714</td>\n",
       "      <td>108.772619</td>\n",
       "      <td>6061.432143</td>\n",
       "      <td>158.870238</td>\n",
       "      <td>4.598810</td>\n",
       "    </tr>\n",
       "    <tr>\n",
       "      <th>std</th>\n",
       "      <td>1.805855e+06</td>\n",
       "      <td>2.593384</td>\n",
       "      <td>2.951387</td>\n",
       "      <td>114.79720</td>\n",
       "      <td>176.855768</td>\n",
       "      <td>16.632438</td>\n",
       "      <td>14.317776</td>\n",
       "      <td>13.254832</td>\n",
       "      <td>53.586937</td>\n",
       "      <td>9.106452</td>\n",
       "      <td>16.814239</td>\n",
       "      <td>2696.012560</td>\n",
       "      <td>74.623981</td>\n",
       "      <td>1.015126</td>\n",
       "    </tr>\n",
       "    <tr>\n",
       "      <th>min</th>\n",
       "      <td>4.966300e+04</td>\n",
       "      <td>60.500000</td>\n",
       "      <td>28.200000</td>\n",
       "      <td>136.00000</td>\n",
       "      <td>141.000000</td>\n",
       "      <td>11.000000</td>\n",
       "      <td>4.000000</td>\n",
       "      <td>44.500000</td>\n",
       "      <td>130.400000</td>\n",
       "      <td>29.800000</td>\n",
       "      <td>72.900000</td>\n",
       "      <td>851.200000</td>\n",
       "      <td>28.000000</td>\n",
       "      <td>2.900000</td>\n",
       "    </tr>\n",
       "    <tr>\n",
       "      <th>25%</th>\n",
       "      <td>7.459088e+05</td>\n",
       "      <td>71.400000</td>\n",
       "      <td>37.975000</td>\n",
       "      <td>425.50000</td>\n",
       "      <td>481.250000</td>\n",
       "      <td>33.000000</td>\n",
       "      <td>8.000000</td>\n",
       "      <td>70.975000</td>\n",
       "      <td>260.300000</td>\n",
       "      <td>42.400000</td>\n",
       "      <td>98.950000</td>\n",
       "      <td>4380.800000</td>\n",
       "      <td>100.975000</td>\n",
       "      <td>3.875000</td>\n",
       "    </tr>\n",
       "    <tr>\n",
       "      <th>50%</th>\n",
       "      <td>1.183950e+06</td>\n",
       "      <td>72.300000</td>\n",
       "      <td>39.500000</td>\n",
       "      <td>498.00000</td>\n",
       "      <td>575.000000</td>\n",
       "      <td>42.000000</td>\n",
       "      <td>16.000000</td>\n",
       "      <td>78.250000</td>\n",
       "      <td>278.950000</td>\n",
       "      <td>46.650000</td>\n",
       "      <td>108.150000</td>\n",
       "      <td>5376.400000</td>\n",
       "      <td>151.050000</td>\n",
       "      <td>4.600000</td>\n",
       "    </tr>\n",
       "    <tr>\n",
       "      <th>75%</th>\n",
       "      <td>2.329069e+06</td>\n",
       "      <td>73.725000</td>\n",
       "      <td>41.325000</td>\n",
       "      <td>557.75000</td>\n",
       "      <td>659.250000</td>\n",
       "      <td>51.250000</td>\n",
       "      <td>25.250000</td>\n",
       "      <td>87.500000</td>\n",
       "      <td>300.350000</td>\n",
       "      <td>52.125000</td>\n",
       "      <td>114.125000</td>\n",
       "      <td>7228.700000</td>\n",
       "      <td>197.350000</td>\n",
       "      <td>5.200000</td>\n",
       "    </tr>\n",
       "    <tr>\n",
       "      <th>max</th>\n",
       "      <td>1.261528e+07</td>\n",
       "      <td>82.100000</td>\n",
       "      <td>43.000000</td>\n",
       "      <td>901.00000</td>\n",
       "      <td>1077.000000</td>\n",
       "      <td>89.000000</td>\n",
       "      <td>74.000000</td>\n",
       "      <td>118.700000</td>\n",
       "      <td>481.600000</td>\n",
       "      <td>82.100000</td>\n",
       "      <td>163.500000</td>\n",
       "      <td>15048.700000</td>\n",
       "      <td>463.500000</td>\n",
       "      <td>8.000000</td>\n",
       "    </tr>\n",
       "  </tbody>\n",
       "</table>\n",
       "</div>"
      ],
      "text/plain": [
       "              popul        exp        avg  deaths_work  deaths_blood  \\\n",
       "count  8.400000e+01  84.000000  84.000000     84.00000     84.000000   \n",
       "mean   1.747390e+06  72.488095  39.094048    484.47619    564.535714   \n",
       "std    1.805855e+06   2.593384   2.951387    114.79720    176.855768   \n",
       "min    4.966300e+04  60.500000  28.200000    136.00000    141.000000   \n",
       "25%    7.459088e+05  71.400000  37.975000    425.50000    481.250000   \n",
       "50%    1.183950e+06  72.300000  39.500000    498.00000    575.000000   \n",
       "75%    2.329069e+06  73.725000  41.325000    557.75000    659.250000   \n",
       "max    1.261528e+07  82.100000  43.000000    901.00000   1077.000000   \n",
       "\n",
       "       deaths_resp  deaths_inf         bed    capacity        doc       nurse  \\\n",
       "count    84.000000   84.000000   84.000000   84.000000  84.000000   84.000000   \n",
       "mean     43.476190   19.035714   80.004762  282.278571  47.860714  108.772619   \n",
       "std      16.632438   14.317776   13.254832   53.586937   9.106452   16.814239   \n",
       "min      11.000000    4.000000   44.500000  130.400000  29.800000   72.900000   \n",
       "25%      33.000000    8.000000   70.975000  260.300000  42.400000   98.950000   \n",
       "50%      42.000000   16.000000   78.250000  278.950000  46.650000  108.150000   \n",
       "75%      51.250000   25.250000   87.500000  300.350000  52.125000  114.125000   \n",
       "max      89.000000   74.000000  118.700000  481.600000  82.100000  163.500000   \n",
       "\n",
       "          cases_cov  deaths_cov   rate_gov  \n",
       "count     84.000000   84.000000  84.000000  \n",
       "mean    6061.432143  158.870238   4.598810  \n",
       "std     2696.012560   74.623981   1.015126  \n",
       "min      851.200000   28.000000   2.900000  \n",
       "25%     4380.800000  100.975000   3.875000  \n",
       "50%     5376.400000  151.050000   4.600000  \n",
       "75%     7228.700000  197.350000   5.200000  \n",
       "max    15048.700000  463.500000   8.000000  "
      ]
     },
     "execution_count": 59,
     "metadata": {},
     "output_type": "execute_result"
    }
   ],
   "source": [
    "med.describe()"
   ]
  },
  {
   "cell_type": "code",
   "execution_count": 61,
   "id": "989848a3",
   "metadata": {},
   "outputs": [
    {
     "data": {
      "text/html": [
       "<div>\n",
       "<style scoped>\n",
       "    .dataframe tbody tr th:only-of-type {\n",
       "        vertical-align: middle;\n",
       "    }\n",
       "\n",
       "    .dataframe tbody tr th {\n",
       "        vertical-align: top;\n",
       "    }\n",
       "\n",
       "    .dataframe thead th {\n",
       "        text-align: right;\n",
       "    }\n",
       "</style>\n",
       "<table border=\"1\" class=\"dataframe\">\n",
       "  <thead>\n",
       "    <tr style=\"text-align: right;\">\n",
       "      <th></th>\n",
       "      <th>popul</th>\n",
       "      <th>exp</th>\n",
       "      <th>avg</th>\n",
       "      <th>deaths_work</th>\n",
       "      <th>deaths_blood</th>\n",
       "      <th>deaths_resp</th>\n",
       "      <th>deaths_inf</th>\n",
       "      <th>bed</th>\n",
       "      <th>capacity</th>\n",
       "      <th>doc</th>\n",
       "      <th>nurse</th>\n",
       "      <th>cases_cov</th>\n",
       "      <th>deaths_cov</th>\n",
       "      <th>rate_gov</th>\n",
       "    </tr>\n",
       "  </thead>\n",
       "  <tbody>\n",
       "    <tr>\n",
       "      <th>count</th>\n",
       "      <td>-7.900000e+01</td>\n",
       "      <td>-79.000000</td>\n",
       "      <td>-79.000000</td>\n",
       "      <td>-79.000000</td>\n",
       "      <td>-79.000000</td>\n",
       "      <td>-79.000000</td>\n",
       "      <td>-79.000000</td>\n",
       "      <td>-79.000000</td>\n",
       "      <td>-79.000000</td>\n",
       "      <td>-79.000000</td>\n",
       "      <td>-79.000000</td>\n",
       "      <td>-79.000000</td>\n",
       "      <td>-79.000000</td>\n",
       "      <td>-79.000000</td>\n",
       "    </tr>\n",
       "    <tr>\n",
       "      <th>mean</th>\n",
       "      <td>-6.150392e+04</td>\n",
       "      <td>0.871905</td>\n",
       "      <td>0.945952</td>\n",
       "      <td>-32.476190</td>\n",
       "      <td>134.864286</td>\n",
       "      <td>-9.476190</td>\n",
       "      <td>-2.235714</td>\n",
       "      <td>-0.284762</td>\n",
       "      <td>9.141429</td>\n",
       "      <td>6.159286</td>\n",
       "      <td>0.327381</td>\n",
       "      <td>3837.987857</td>\n",
       "      <td>176.769762</td>\n",
       "      <td>0.041190</td>\n",
       "    </tr>\n",
       "    <tr>\n",
       "      <th>std</th>\n",
       "      <td>2.891455e+05</td>\n",
       "      <td>-0.473714</td>\n",
       "      <td>-1.089131</td>\n",
       "      <td>-46.339183</td>\n",
       "      <td>-12.024642</td>\n",
       "      <td>0.817491</td>\n",
       "      <td>-6.591198</td>\n",
       "      <td>-2.675749</td>\n",
       "      <td>8.288398</td>\n",
       "      <td>7.023086</td>\n",
       "      <td>-3.678030</td>\n",
       "      <td>87.242364</td>\n",
       "      <td>2.694083</td>\n",
       "      <td>0.295599</td>\n",
       "    </tr>\n",
       "    <tr>\n",
       "      <th>min</th>\n",
       "      <td>3.935490e+05</td>\n",
       "      <td>10.100000</td>\n",
       "      <td>9.500000</td>\n",
       "      <td>218.000000</td>\n",
       "      <td>434.000000</td>\n",
       "      <td>8.000000</td>\n",
       "      <td>5.000000</td>\n",
       "      <td>19.100000</td>\n",
       "      <td>65.600000</td>\n",
       "      <td>13.200000</td>\n",
       "      <td>22.000000</td>\n",
       "      <td>5488.700000</td>\n",
       "      <td>238.800000</td>\n",
       "      <td>0.000000</td>\n",
       "    </tr>\n",
       "    <tr>\n",
       "      <th>25%</th>\n",
       "      <td>-2.097418e+05</td>\n",
       "      <td>0.700000</td>\n",
       "      <td>0.525000</td>\n",
       "      <td>-1.500000</td>\n",
       "      <td>136.750000</td>\n",
       "      <td>-13.000000</td>\n",
       "      <td>2.000000</td>\n",
       "      <td>4.825000</td>\n",
       "      <td>13.000000</td>\n",
       "      <td>1.400000</td>\n",
       "      <td>5.850000</td>\n",
       "      <td>4224.400000</td>\n",
       "      <td>184.225000</td>\n",
       "      <td>0.425000</td>\n",
       "    </tr>\n",
       "    <tr>\n",
       "      <th>50%</th>\n",
       "      <td>-4.358940e+05</td>\n",
       "      <td>1.600000</td>\n",
       "      <td>1.200000</td>\n",
       "      <td>-45.000000</td>\n",
       "      <td>46.000000</td>\n",
       "      <td>-10.000000</td>\n",
       "      <td>2.000000</td>\n",
       "      <td>4.150000</td>\n",
       "      <td>18.350000</td>\n",
       "      <td>2.750000</td>\n",
       "      <td>-2.950000</td>\n",
       "      <td>4449.600000</td>\n",
       "      <td>169.250000</td>\n",
       "      <td>-0.200000</td>\n",
       "    </tr>\n",
       "    <tr>\n",
       "      <th>75%</th>\n",
       "      <td>-1.010966e+06</td>\n",
       "      <td>0.275000</td>\n",
       "      <td>-0.125000</td>\n",
       "      <td>-59.750000</td>\n",
       "      <td>40.750000</td>\n",
       "      <td>-14.250000</td>\n",
       "      <td>-6.250000</td>\n",
       "      <td>-1.800000</td>\n",
       "      <td>39.850000</td>\n",
       "      <td>-0.325000</td>\n",
       "      <td>-3.925000</td>\n",
       "      <td>3634.800000</td>\n",
       "      <td>145.050000</td>\n",
       "      <td>-0.100000</td>\n",
       "    </tr>\n",
       "    <tr>\n",
       "      <th>max</th>\n",
       "      <td>-7.231389e+06</td>\n",
       "      <td>-5.900000</td>\n",
       "      <td>-0.900000</td>\n",
       "      <td>-370.000000</td>\n",
       "      <td>-94.000000</td>\n",
       "      <td>-27.000000</td>\n",
       "      <td>-46.000000</td>\n",
       "      <td>-27.600000</td>\n",
       "      <td>-131.300000</td>\n",
       "      <td>0.000000</td>\n",
       "      <td>-33.100000</td>\n",
       "      <td>-1186.200000</td>\n",
       "      <td>0.000000</td>\n",
       "      <td>-1.500000</td>\n",
       "    </tr>\n",
       "  </tbody>\n",
       "</table>\n",
       "</div>"
      ],
      "text/plain": [
       "              popul        exp        avg  deaths_work  deaths_blood  \\\n",
       "count -7.900000e+01 -79.000000 -79.000000   -79.000000    -79.000000   \n",
       "mean  -6.150392e+04   0.871905   0.945952   -32.476190    134.864286   \n",
       "std    2.891455e+05  -0.473714  -1.089131   -46.339183    -12.024642   \n",
       "min    3.935490e+05  10.100000   9.500000   218.000000    434.000000   \n",
       "25%   -2.097418e+05   0.700000   0.525000    -1.500000    136.750000   \n",
       "50%   -4.358940e+05   1.600000   1.200000   -45.000000     46.000000   \n",
       "75%   -1.010966e+06   0.275000  -0.125000   -59.750000     40.750000   \n",
       "max   -7.231389e+06  -5.900000  -0.900000  -370.000000    -94.000000   \n",
       "\n",
       "       deaths_resp  deaths_inf        bed    capacity        doc      nurse  \\\n",
       "count   -79.000000  -79.000000 -79.000000  -79.000000 -79.000000 -79.000000   \n",
       "mean     -9.476190   -2.235714  -0.284762    9.141429   6.159286   0.327381   \n",
       "std       0.817491   -6.591198  -2.675749    8.288398   7.023086  -3.678030   \n",
       "min       8.000000    5.000000  19.100000   65.600000  13.200000  22.000000   \n",
       "25%     -13.000000    2.000000   4.825000   13.000000   1.400000   5.850000   \n",
       "50%     -10.000000    2.000000   4.150000   18.350000   2.750000  -2.950000   \n",
       "75%     -14.250000   -6.250000  -1.800000   39.850000  -0.325000  -3.925000   \n",
       "max     -27.000000  -46.000000 -27.600000 -131.300000   0.000000 -33.100000   \n",
       "\n",
       "         cases_cov  deaths_cov   rate_gov  \n",
       "count   -79.000000  -79.000000 -79.000000  \n",
       "mean   3837.987857  176.769762   0.041190  \n",
       "std      87.242364    2.694083   0.295599  \n",
       "min    5488.700000  238.800000   0.000000  \n",
       "25%    4224.400000  184.225000   0.425000  \n",
       "50%    4449.600000  169.250000  -0.200000  \n",
       "75%    3634.800000  145.050000  -0.100000  \n",
       "max   -1186.200000    0.000000  -1.500000  "
      ]
     },
     "execution_count": 61,
     "metadata": {},
     "output_type": "execute_result"
    }
   ],
   "source": [
    "kvant.describe() - med.describe()"
   ]
  },
  {
   "cell_type": "markdown",
   "id": "ec25b893",
   "metadata": {},
   "source": [
    "**Заметны два существенных отклонения.** \n",
    "\n",
    "1. Среднее количество выявленных случаев Ковид - 19 на 63% выше в исследуемой выборке по сравнению с общей выборкой. Это неудивительно, так как в ходе исследования мы обнаружили заметный уровень корреляции между количеством выявленных случаев Ковид - 19 и числом смертей от него **(0,52)**."
   ]
  },
  {
   "cell_type": "code",
   "execution_count": 82,
   "id": "d2d8ff0a",
   "metadata": {},
   "outputs": [
    {
     "name": "stdout",
     "output_type": "stream",
     "text": [
      "Коэффициент корреляции 0.5166501309980761\n"
     ]
    },
    {
     "data": {
      "text/plain": [
       "<AxesSubplot:xlabel='deaths_cov', ylabel='cases_cov'>"
      ]
     },
     "execution_count": 82,
     "metadata": {},
     "output_type": "execute_result"
    },
    {
     "data": {
      "image/png": "[encoded data removed]",
      "text/plain": [
       "<Figure size 432x288 with 1 Axes>"
      ]
     },
     "metadata": {
      "needs_background": "light"
     },
     "output_type": "display_data"
    }
   ],
   "source": [
    "curr_co = med['deaths_cov'].corr(med.cases_cov)\n",
    "curr_co\n",
    "print(\"Коэффициент корреляции \" + str(curr_co))\n",
    "sns.scatterplot(x=\"deaths_cov\", y='cases_cov', data=med)"
   ]
  },
  {
   "cell_type": "markdown",
   "id": "a164a8ae",
   "metadata": {},
   "source": [
    "2. В регионах из исследуемой выборки в среднем на **24% (на 135 человек на 100 тыс. населения)** больше умирает людей от болезней системы кровообращения, чем в целом по стране. Известно, что коронавирус оказывает сильное влияние на систему кровообращения, и регионы, в которых население подвержено болезням сердца и сосудов, очевидно сильнее могут страдать от последствий Ковид - 19."
   ]
  },
  {
   "cell_type": "markdown",
   "id": "d9d6915b",
   "metadata": {},
   "source": [
    "## Рейтинг губернаторов <a class=\"anchor\" id=\"third-bullet\"></a>"
   ]
  },
  {
   "cell_type": "markdown",
   "id": "e4f7d170",
   "metadata": {},
   "source": [
    "Рейтинг губернаторов был добавлен в исследование, исходя из предположения, что качество жизни, важной частью которого являются здоровье, продолжительность жизни, доступ к медицинским услугам, будут значительно коррелировать с данными рейтинга.\n",
    "\n",
    "Это предположение оправдалось лишь на определенную часть."
   ]
  },
  {
   "cell_type": "code",
   "execution_count": 83,
   "id": "1c433890",
   "metadata": {},
   "outputs": [
    {
     "name": "stdout",
     "output_type": "stream",
     "text": [
      "Коэффициент корреляции 0.2807181957282947\n"
     ]
    },
    {
     "data": {
      "image/png": "[encoded data removed]",
      "text/plain": [
       "<Figure size 432x288 with 1 Axes>"
      ]
     },
     "metadata": {
      "needs_background": "light"
     },
     "output_type": "display_data"
    },
    {
     "name": "stdout",
     "output_type": "stream",
     "text": [
      "Коэффициент корреляции 0.9999999999999998\n"
     ]
    },
    {
     "data": {
      "image/png": "[encoded data removed]",
      "text/plain": [
       "<Figure size 432x288 with 1 Axes>"
      ]
     },
     "metadata": {
      "needs_background": "light"
     },
     "output_type": "display_data"
    },
    {
     "name": "stdout",
     "output_type": "stream",
     "text": [
      "Коэффициент корреляции -0.23381769646678932\n"
     ]
    },
    {
     "data": {
      "image/png": "[encoded data removed]",
      "text/plain": [
       "<Figure size 432x288 with 1 Axes>"
      ]
     },
     "metadata": {
      "needs_background": "light"
     },
     "output_type": "display_data"
    },
    {
     "name": "stdout",
     "output_type": "stream",
     "text": [
      "Коэффициент корреляции -0.24058710609813647\n"
     ]
    },
    {
     "data": {
      "image/png": "[encoded data removed]",
      "text/plain": [
       "<Figure size 432x288 with 1 Axes>"
      ]
     },
     "metadata": {
      "needs_background": "light"
     },
     "output_type": "display_data"
    },
    {
     "name": "stdout",
     "output_type": "stream",
     "text": [
      "Коэффициент корреляции -0.23887131258664318\n"
     ]
    },
    {
     "data": {
      "image/png": "[encoded data removed]",
      "text/plain": [
       "<Figure size 432x288 with 1 Axes>"
      ]
     },
     "metadata": {
      "needs_background": "light"
     },
     "output_type": "display_data"
    },
    {
     "name": "stdout",
     "output_type": "stream",
     "text": [
      "Коэффициент корреляции -0.26924197331752614\n"
     ]
    },
    {
     "data": {
      "image/png": "[encoded data removed]",
      "text/plain": [
       "<Figure size 432x288 with 1 Axes>"
      ]
     },
     "metadata": {
      "needs_background": "light"
     },
     "output_type": "display_data"
    }
   ],
   "source": [
    "level = 0.2\n",
    "for i in search[:-1]:\n",
    "    curr_corr = med[i].corr(med.rate_gov)\n",
    "    if abs(curr_corr) >= level:\n",
    "        sns.scatterplot(x=\"rate_gov\", y=i, data=med)\n",
    "        print(\"Коэффициент корреляции \" + str(curr_corr))\n",
    "        plt.title(\"Связь между рейтингом губернаторов и \"+str(i))\n",
    "        plt.show()"
   ]
  },
  {
   "cell_type": "markdown",
   "id": "954e15b8",
   "metadata": {},
   "source": [
    "Итак, какие выводы мы можем сделать.\n",
    "\n",
    "1. Чуть ниже порогового значения умеренной связи, мы обнаруживаем, что рейтинг губернаторов коррелирует с ожидаемой продолжительностью жизни **(0,28)**. Выше рейтинг губернаторов в тех регионах, где и ожидаемая продолжительность жизни имеет более высокие значения.\n",
    "2. Мы видим обратную связь между смертностью в трудоспособном возрасте **(-0,23)**, смертностью от болезней органов дыхания **(-0,24)**, количеством коек в стационарах **(-0,24)**, количеством среднего медицинского персонала **(-0,27)** и рейтингом губернаторов. Такая корреляция, хоть и невелика, но в совокупности важна и понятна из анализа выше: чем меньше смертность - тем меньше количество коек и медицинского персонала. \n",
    "\n",
    "Наряду с более высокой ожидаемой продолжительностью жизни, которая, как мы выяснили выше, сильно коррелирует со смертностью в трудоспособном возрасте **(-0,89)**, мы все - таки можем сделать вывод о важности корреляции рейтинга губернаторов и медицинской статистики."
   ]
  }
 ],
 "metadata": {
  "kernelspec": {
   "display_name": "Python 3",
   "language": "python",
   "name": "python3"
  },
  "language_info": {
   "codemirror_mode": {
    "name": "ipython",
    "version": 3
   },
   "file_extension": ".py",
   "mimetype": "text/x-python",
   "name": "python",
   "nbconvert_exporter": "python",
   "pygments_lexer": "ipython3",
   "version": "3.8.8"
  }
 },
 "nbformat": 4,
 "nbformat_minor": 5
}
